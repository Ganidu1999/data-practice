{
 "cells": [
  {
   "cell_type": "code",
   "execution_count": 1,
   "metadata": {
    "collapsed": true,
    "scrolled": true
   },
   "outputs": [
    {
     "name": "stdout",
     "output_type": "stream",
     "text": [
      "50\n",
      "Mean :  34.62\n",
      "Median :  36.5\n",
      "First Quartile :  25.25\n",
      "Second Quartile (Median) :  36.5\n",
      "Third Quartile :  43.5\n",
      "66% data :  42.0\n",
      "Varience  114.0756\n",
      "Standard diviation  10.680617959650087\n",
      "25\n"
     ]
    }
   ],
   "source": [
    "import numpy as np\n",
    "data=[15,16,16,17,19,21,21,21,21,22,22,23,25,26,28,29,29,31,31,31,33,34,34,35,36,37,38,38,38,39,39,40,42,42,42,42,42,44,44,44,46,47,48,48,48,49,49,49,50,50]\n",
    "print(len(data))\n",
    "print('Mean : ',np.mean(data))\n",
    "print('Median : ',np.median(data))\n",
    "print('First Quartile : ',np.percentile(data,25))\n",
    "print('Second Quartile (Median) : ',np.percentile(data,50))\n",
    "print('Third Quartile : ',np.percentile(data,75))\n",
    "print('66% data : ',np.percentile(data,66))\n",
    "print('Varience ',np.var(data))\n",
    "print('Standard diviation ',np.std(data))\n",
    "print(data[int(len(data)/4)])"
   ]
  },
  {
   "cell_type": "code",
   "execution_count": 35,
   "metadata": {
    "scrolled": true
   },
   "outputs": [
    {
     "name": "stdout",
     "output_type": "stream",
     "text": [
      "   SHOP_ID     CATEGORY                                               NAME  \\\n",
      "0   100001  Coffee shop  Java Lounge - Fort - Sri Lanka's Largest Coffe...   \n",
      "1   100002         Cafe                  The Commons Coffee House at Hatch   \n",
      "2   100003         Cafe                             The t-Lounge by Dilmah   \n",
      "3   100004  Coffee shop                                            Goodies   \n",
      "\n",
      "   RATING PRICE  REVIEW_COUNT                                ADDRESS  \\\n",
      "0     4.1    $$         245.0           7 Hospital St~ Colombo 00100   \n",
      "1     4.1   NaN          50.0                                Colombo   \n",
      "2     4.4    $$         780.0              Chatham St~ Colombo 00100   \n",
      "3     4.3    $$          68.0  117 Colombo - Batticaloa Hwy~ Colombo   \n",
      "\n",
      "                                          OPEN_HOURS  \\\n",
      "0  [\"Friday~ 7AM to 11:45PM; Saturday~ 7AM to 11:...   \n",
      "1  [\"Friday~ 8AM to 7PM; Saturday~ 8AM to 3PM; Su...   \n",
      "2  [\"Friday~ 8AM to 9PM; Saturday~ 8AM to 9PM; Su...   \n",
      "3  [\"Friday~ 7:30AM to 9PM; Saturday~ 7:30AM to 9...   \n",
      "\n",
      "                                          BUSY_HOURS  \n",
      "0  ['0% busy at 6 AM.'~ '0% busy at 7 AM.'~ '4% b...  \n",
      "1                                                NaN  \n",
      "2  ['0% busy at 6 AM.'~ '0% busy at 7 AM.'~ '14% ...  \n",
      "3                                                NaN  \n",
      "             SHOP_ID  RATING  REVIEW_COUNT\n",
      "count       4.000000   4.000      4.000000\n",
      "mean   100002.500000   4.225    285.750000\n",
      "std         1.290994   0.150    341.045818\n",
      "min    100001.000000   4.100     50.000000\n",
      "25%    100001.750000   4.100     63.500000\n",
      "50%    100002.500000   4.200    156.500000\n",
      "75%    100003.250000   4.325    378.750000\n",
      "max    100004.000000   4.400    780.000000\n",
      "<class 'pandas.core.frame.DataFrame'>\n"
     ]
    }
   ],
   "source": [
    "import pandas as pd\n",
    "df=pd.read_csv(\"restaurants.csv\").head(4)\n",
    "print(df)\n",
    "print(df.describe())\n",
    "print(type(df))"
   ]
  },
  {
   "cell_type": "code",
   "execution_count": 37,
   "metadata": {
    "scrolled": true
   },
   "outputs": [
    {
     "name": "stdout",
     "output_type": "stream",
     "text": [
      "      CATEGORY  SHOP_ID\n",
      "0  Coffee shop   100001\n",
      "1         Cafe   100002\n",
      "2         Cafe   100003\n",
      "3  Coffee shop   100004\n",
      "<class 'pandas.core.frame.DataFrame'>\n",
      "      CATEGORY  SHOP_ID\n",
      "0  Coffee shop   100001\n",
      "1         Cafe   100002\n",
      "2         Cafe   100003\n",
      "3  Coffee shop   100004\n"
     ]
    }
   ],
   "source": [
    "col=df[['CATEGORY','SHOP_ID']]\n",
    "print(col)\n",
    "print(type(col))\n",
    "print(col.head(10))\n"
   ]
  },
  {
   "cell_type": "code",
   "execution_count": 46,
   "metadata": {
    "scrolled": false
   },
   "outputs": [
    {
     "name": "stdout",
     "output_type": "stream",
     "text": [
      "      CATEGORY  SHOP_ID                                ADDRESS\n",
      "0  Coffee shop   100001           7 Hospital St~ Colombo 00100\n",
      "1         Cafe   100002                                Colombo\n",
      "2         Cafe   100003              Chatham St~ Colombo 00100\n",
      "3  Coffee shop   100004  117 Colombo - Batticaloa Hwy~ Colombo\n",
      "   SHOP_ID     CATEGORY                                               NAME  \\\n",
      "0   100001  Coffee shop  Java Lounge - Fort - Sri Lanka's Largest Coffe...   \n",
      "1   100002         Cafe                  The Commons Coffee House at Hatch   \n",
      "2   100003         Cafe                             The t-Lounge by Dilmah   \n",
      "3   100004  Coffee shop                                            Goodies   \n",
      "\n",
      "   RATING PRICE  REVIEW_COUNT                                ADDRESS  \\\n",
      "0     4.1    $$         245.0           7 Hospital St~ Colombo 00100   \n",
      "1     4.1   NaN          50.0                                Colombo   \n",
      "2     4.4    $$         780.0              Chatham St~ Colombo 00100   \n",
      "3     4.3    $$          68.0  117 Colombo - Batticaloa Hwy~ Colombo   \n",
      "\n",
      "                                          OPEN_HOURS  \\\n",
      "0  [\"Friday~ 7AM to 11:45PM; Saturday~ 7AM to 11:...   \n",
      "1  [\"Friday~ 8AM to 7PM; Saturday~ 8AM to 3PM; Su...   \n",
      "2  [\"Friday~ 8AM to 9PM; Saturday~ 8AM to 9PM; Su...   \n",
      "3  [\"Friday~ 7:30AM to 9PM; Saturday~ 7:30AM to 9...   \n",
      "\n",
      "                                          BUSY_HOURS  \n",
      "0  ['0% busy at 6 AM.'~ '0% busy at 7 AM.'~ '4% b...  \n",
      "1                                                NaN  \n",
      "2  ['0% busy at 6 AM.'~ '0% busy at 7 AM.'~ '14% ...  \n",
      "3                                                NaN  \n",
      "[['Coffee shop' 100001 '7 Hospital St~ Colombo 00100']\n",
      " ['Cafe' 100002 'Colombo']\n",
      " ['Cafe' 100003 'Chatham St~ Colombo 00100']\n",
      " ['Coffee shop' 100004 '117 Colombo - Batticaloa Hwy~ Colombo']]\n"
     ]
    }
   ],
   "source": [
    "minidf=df[['CATEGORY','SHOP_ID','ADDRESS']]\n",
    "print(minidf.head(20))\n",
    "print(df.head(20))\n",
    "print(minidf.values) #prints a 2d numpy array"
   ]
  },
  {
   "cell_type": "code",
   "execution_count": 38,
   "metadata": {
    "scrolled": true
   },
   "outputs": [
    {
     "name": "stderr",
     "output_type": "stream",
     "text": [
      "<ipython-input-38-7709d1c5c659>:1: SettingWithCopyWarning: \n",
      "A value is trying to be set on a copy of a slice from a DataFrame.\n",
      "Try using .loc[row_indexer,col_indexer] = value instead\n",
      "\n",
      "See the caveats in the documentation: https://pandas.pydata.org/pandas-docs/stable/user_guide/indexing.html#returning-a-view-versus-a-copy\n",
      "  minidf['CAFE']=minidf['CATEGORY']=='Cafe'\n"
     ]
    }
   ],
   "source": [
    "minidf['CAFE']=minidf['CATEGORY']=='Cafe' #adding a extra column CAFE where if it return tue if CATEGORY is cafe"
   ]
  },
  {
   "cell_type": "code",
   "execution_count": 45,
   "metadata": {
    "scrolled": false
   },
   "outputs": [
    {
     "name": "stdout",
     "output_type": "stream",
     "text": [
      "[100001 100002 100003 100004] <class 'numpy.ndarray'>\n"
     ]
    }
   ],
   "source": [
    "array=df['SHOP_ID'].head(10).values\n",
    "print(df['SHOP_ID'].head(10).values,type(array))#values attribute returns a 1d array "
   ]
  },
  {
   "cell_type": "code",
   "execution_count": null,
   "metadata": {
    "collapsed": true,
    "scrolled": true
   },
   "outputs": [],
   "source": []
  }
 ],
 "metadata": {
  "kernelspec": {
   "display_name": "Python 3",
   "language": "python",
   "name": "python3"
  },
  "language_info": {
   "codemirror_mode": {
    "name": "ipython",
    "version": 3
   },
   "file_extension": ".py",
   "mimetype": "text/x-python",
   "name": "python",
   "nbconvert_exporter": "python",
   "pygments_lexer": "ipython3",
   "version": "3.8.5"
  }
 },
 "nbformat": 4,
 "nbformat_minor": 4
}

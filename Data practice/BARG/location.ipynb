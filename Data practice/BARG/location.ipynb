{
 "cells": [
  {
   "cell_type": "code",
   "execution_count": null,
   "metadata": {},
   "outputs": [],
   "source": [
    "import pandas as pd\n",
    "import numpy as np\n",
    "import matplotlib.pyplot as plt\n",
    "from sklearn.linear_model import LogisticRegression\n",
    "restaurants=pd.read_csv('restaurants.csv')\n",
    "search=input('Enter location')\n",
    "#addresses=restaurants['ADDRESS'].values\n",
    "#print(addresses)\n",
    "shops=restaurants[['SHOP_ID','CATEGORY','ADDRESS']].values\n",
    "#print(shops)\n",
    "keywordsOfSearch=search.split(sep=\"in\",maxsplit=1)\n",
    "#print(keywordsOfSearch)\n",
    "addressesSplitted=[]\n",
    "matchedRows=[]\n",
    "row=0\n",
    "for i in shops :\n",
    "    addressesSplitted.append(i[2].split(sep=\" \"))\n",
    "for j in addressesSplitted :\n",
    "    row=row+1\n",
    "    for k in j :\n",
    "        print(k.lower(),\" \",keywordsOfSearch[1].lower())\n",
    "        if k.lower() == keywordsOfSearch[1].lower() :\n",
    "            print(\"Found\")\n",
    "            matchedRows.append(row)\n",
    "            break\n",
    "print(matchedRows)   "
   ]
  },
  {
   "cell_type": "code",
   "execution_count": null,
   "metadata": {},
   "outputs": [],
   "source": [
    "sample=pd.read_csv('Desktop/git/data-practice/Data practice/BARG/Datasets/sample.csv')\n",
    "X=restaurants[]"
   ]
  }
 ],
 "metadata": {
  "kernelspec": {
   "display_name": "Python 3",
   "language": "python",
   "name": "python3"
  },
  "language_info": {
   "codemirror_mode": {
    "name": "ipython",
    "version": 3
   },
   "file_extension": ".py",
   "mimetype": "text/x-python",
   "name": "python",
   "nbconvert_exporter": "python",
   "pygments_lexer": "ipython3",
   "version": "3.8.5"
  }
 },
 "nbformat": 4,
 "nbformat_minor": 4
}

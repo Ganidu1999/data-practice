{
 "cells": [
  {
   "cell_type": "code",
   "execution_count": 1,
   "metadata": {
    "scrolled": true
   },
   "outputs": [
    {
     "name": "stdout",
     "output_type": "stream",
     "text": [
      "50\n",
      "Mean :  34.62\n",
      "Median :  36.5\n",
      "First Quartile :  25.25\n",
      "Second Quartile (Median) :  36.5\n",
      "Third Quartile :  43.5\n",
      "66% data :  42.0\n",
      "Varience  114.0756\n",
      "Standard diviation  10.680617959650087\n",
      "25\n"
     ]
    }
   ],
   "source": [
    "import numpy as np\n",
    "data=[15,16,16,17,19,21,21,21,21,22,22,23,25,26,28,29,29,31,31,31,33,34,34,35,36,37,38,38,38,39,39,40,42,42,42,42,42,44,44,44,46,47,48,48,48,49,49,49,50,50]\n",
    "print(len(data))\n",
    "print('Mean : ',np.mean(data))\n",
    "print('Median : ',np.median(data))\n",
    "print('First Quartile : ',np.percentile(data,25))\n",
    "print('Second Quartile (Median) : ',np.percentile(data,50))\n",
    "print('Third Quartile : ',np.percentile(data,75))\n",
    "print('66% data : ',np.percentile(data,66))\n",
    "print('Varience ',np.var(data))\n",
    "print('Standard diviation ',np.std(data))\n",
    "print(data[int(len(data)/4)])"
   ]
  },
  {
   "cell_type": "code",
   "execution_count": 2,
   "metadata": {
    "scrolled": true
   },
   "outputs": [
    {
     "name": "stdout",
     "output_type": "stream",
     "text": [
      "    SHOP_ID               CATEGORY  \\\n",
      "0    100001            Coffee shop   \n",
      "1    100002                   Cafe   \n",
      "2    100003                   Cafe   \n",
      "3    100004            Coffee shop   \n",
      "4    100005                   Cafe   \n",
      "..      ...                    ...   \n",
      "74   100075             Restaurant   \n",
      "75   100076  Vegetarian restaurant   \n",
      "76   100077       Vegan restaurant   \n",
      "77   100078  Vegetarian restaurant   \n",
      "78   100079       Add phone number   \n",
      "\n",
      "                                                 NAME  RATING PRICE  \\\n",
      "0   Java Lounge - Fort - Sri Lanka's Largest Coffe...     4.1    $$   \n",
      "1                   The Commons Coffee House at Hatch     4.1   NaN   \n",
      "2                              The t-Lounge by Dilmah     4.4    $$   \n",
      "3                                             Goodies     4.3    $$   \n",
      "4                          Barista World Trade Center     4.2    $$   \n",
      "..                                                ...     ...   ...   \n",
      "74               Saravana Bawan Vegetarian Restaurant     3.8     $   \n",
      "75                                         Royal Vege     4.0   NaN   \n",
      "76                         The VOV (Vegan Restaurant)     4.5    $$   \n",
      "77                           Reality Vegetable Hunter     4.3   NaN   \n",
      "78                Sri Kumaran's New Veggie Restaurant     NaN   NaN   \n",
      "\n",
      "    REVIEW_COUNT                                            ADDRESS  \\\n",
      "0          245.0                       7 Hospital St~ Colombo 00100   \n",
      "1           50.0                                            Colombo   \n",
      "2          780.0                          Chatham St~ Colombo 00100   \n",
      "3           68.0              117 Colombo - Batticaloa Hwy~ Colombo   \n",
      "4          282.0  Level 3 World Trade Center~ Bank of Ceylon Maw...   \n",
      "..           ...                                                ...   \n",
      "74         256.0    Colombo - Galle Main Rd~ Dehiwala-Mount Lavinia   \n",
      "75           2.0               74a Galle Rd~ Dehiwala-Mount Lavinia   \n",
      "76         169.0  No : 117/B/1 Raththanapitiya~ Colombo - Horana...   \n",
      "77           6.0                             Dehiwala-Mount Lavinia   \n",
      "78           NaN                Templers Rd~ Dehiwala-Mount Lavinia   \n",
      "\n",
      "                                           OPEN_HOURS  \\\n",
      "0   [\"Friday~ 7AM to 11:45PM; Saturday~ 7AM to 11:...   \n",
      "1   [\"Friday~ 8AM to 7PM; Saturday~ 8AM to 3PM; Su...   \n",
      "2   [\"Friday~ 8AM to 9PM; Saturday~ 8AM to 9PM; Su...   \n",
      "3   [\"Friday~ 7:30AM to 9PM; Saturday~ 7:30AM to 9...   \n",
      "4   [\"Friday~ 7AM to 7PM; Saturday~ 7AM to 5PM; Su...   \n",
      "..                                                ...   \n",
      "74  [\"Friday~ 8AM to 10PM; Saturday~ 8AM to 10PM; ...   \n",
      "75  [\"Friday~ 6AM to 10PM; Saturday~ 6AM to 10PM; ...   \n",
      "76  [\"Friday~ 11AM to 10PM; Saturday~ 11AM to 10PM...   \n",
      "77                                                NaN   \n",
      "78                                                NaN   \n",
      "\n",
      "                                           BUSY_HOURS  \n",
      "0   ['0% busy at 6 AM.'~ '0% busy at 7 AM.'~ '4% b...  \n",
      "1                                                 NaN  \n",
      "2   ['0% busy at 6 AM.'~ '0% busy at 7 AM.'~ '14% ...  \n",
      "3                                                 NaN  \n",
      "4   ['% busy at .'~ '0% busy at 6 AM.'~ '18% busy ...  \n",
      "..                                                ...  \n",
      "74                                                NaN  \n",
      "75                                                NaN  \n",
      "76                                                NaN  \n",
      "77                                                NaN  \n",
      "78                                                NaN  \n",
      "\n",
      "[79 rows x 9 columns]\n",
      "             SHOP_ID     RATING  REVIEW_COUNT\n",
      "count      79.000000  75.000000     75.000000\n",
      "mean   100040.000000   4.186667    469.506667\n",
      "std        22.949219   0.501170    938.406446\n",
      "min    100001.000000   1.500000      1.000000\n",
      "25%    100020.500000   4.000000      9.500000\n",
      "50%    100040.000000   4.100000     68.000000\n",
      "75%    100059.500000   4.400000    373.000000\n",
      "max    100079.000000   5.000000   4634.000000\n",
      "<class 'pandas.core.frame.DataFrame'>\n"
     ]
    }
   ],
   "source": [
    "import pandas as pd\n",
    "import matplotlib.pyplot as plt\n",
    "pd.options.display.max_columns=100\n",
    "df=pd.read_csv(\"restaurants.csv\")\n",
    "print(df)\n",
    "print(df.describe())\n",
    "print(type(df))"
   ]
  },
  {
   "cell_type": "code",
   "execution_count": 3,
   "metadata": {},
   "outputs": [
    {
     "name": "stdout",
     "output_type": "stream",
     "text": [
      "['Coffee shop' 'Cafe' 'Cafe' 'Coffee shop' 'Cafe' 'Pastry shop'\n",
      " 'Coffee shop' 'Cafe' 'Cafe' 'Coffee shop' 'Coffee shop' 'Cafe'\n",
      " 'Coffee store' 'Cafe' 'Cafe' 'Restaurant' 'Coffee shop' 'Cafe' 'Cafe'\n",
      " 'Cafe' 'Fast food restaurant' 'Halal restaurant' 'Hamburger restaurant'\n",
      " 'Hamburger restaurant' 'Restaurant' 'Fast food restaurant'\n",
      " 'Fast food restaurant' 'Fast food restaurant' 'Fast food restaurant'\n",
      " 'Fast food restaurant' 'Restaurant' 'Fast food restaurant' 'Restaurant'\n",
      " 'Family restaurant' 'Cafe' 'Add phone number' 'Hamburger restaurant'\n",
      " 'Hamburger restaurant' 'Hamburger restaurant' 'Ice cream shop'\n",
      " 'Ice cream shop' 'Ice cream shop' 'Ice cream shop' 'Ice cream shop'\n",
      " 'Ice cream shop' 'Ice cream shop' 'Ice cream shop' 'Ice cream shop'\n",
      " 'Ice cream shop' 'Add hours' 'Ice cream shop' 'Ice cream shop'\n",
      " 'Ice cream shop' 'Ice cream shop' 'Ice cream shop' 'Ice cream shop'\n",
      " 'Ice cream shop' 'Ice cream shop' 'Candy store' 'Vegan restaurant'\n",
      " 'Vegetarian restaurant' 'Vegetarian restaurant' 'Vegetarian restaurant'\n",
      " 'Vegetarian restaurant' 'Buffet restaurant' 'Vegetarian restaurant'\n",
      " 'Restaurant' 'Vegetarian restaurant' 'Restaurant' 'Vegetarian restaurant'\n",
      " 'Vegetarian restaurant' 'Vegetarian restaurant' 'Vegetarian restaurant'\n",
      " 'Add hours' 'Restaurant' 'Vegetarian restaurant' 'Vegan restaurant'\n",
      " 'Vegetarian restaurant' 'Add phone number']\n",
      "2---------------\n",
      "<class 'numpy.ndarray'>\n",
      "3---------------\n",
      "['Coffee shop' 'Cafe' 'Cafe' 'Coffee shop' 'Cafe' 'Pastry shop'\n",
      " 'Coffee shop' 'Cafe' 'Cafe' 'Coffee shop' 'Coffee shop' 'Cafe'\n",
      " 'Coffee store' 'Cafe' 'Cafe' 'Restaurant' 'Coffee shop' 'Cafe' 'Cafe'\n",
      " 'Cafe' 'Fast food restaurant' 'Halal restaurant' 'Hamburger restaurant'\n",
      " 'Hamburger restaurant' 'Restaurant' 'Fast food restaurant'\n",
      " 'Fast food restaurant' 'Fast food restaurant' 'Fast food restaurant'\n",
      " 'Fast food restaurant' 'Restaurant' 'Fast food restaurant' 'Restaurant'\n",
      " 'Family restaurant' 'Cafe' 'Add phone number' 'Hamburger restaurant'\n",
      " 'Hamburger restaurant' 'Hamburger restaurant' 'Ice cream shop'\n",
      " 'Ice cream shop' 'Ice cream shop' 'Ice cream shop' 'Ice cream shop'\n",
      " 'Ice cream shop' 'Ice cream shop' 'Ice cream shop' 'Ice cream shop'\n",
      " 'Ice cream shop' 'Add hours' 'Ice cream shop' 'Ice cream shop'\n",
      " 'Ice cream shop' 'Ice cream shop' 'Ice cream shop' 'Ice cream shop'\n",
      " 'Ice cream shop' 'Ice cream shop' 'Candy store' 'Vegan restaurant'\n",
      " 'Vegetarian restaurant' 'Vegetarian restaurant' 'Vegetarian restaurant'\n",
      " 'Vegetarian restaurant' 'Buffet restaurant' 'Vegetarian restaurant'\n",
      " 'Restaurant' 'Vegetarian restaurant' 'Restaurant' 'Vegetarian restaurant'\n",
      " 'Vegetarian restaurant' 'Vegetarian restaurant' 'Vegetarian restaurant'\n",
      " 'Add hours' 'Restaurant' 'Vegetarian restaurant' 'Vegan restaurant'\n",
      " 'Vegetarian restaurant' 'Add phone number']\n",
      "4---------------\n"
     ]
    },
    {
     "ename": "IndexError",
     "evalue": "too many indices for array: array is 1-dimensional, but 2 were indexed",
     "output_type": "error",
     "traceback": [
      "\u001b[1;31m---------------------------------------------------------------------------\u001b[0m",
      "\u001b[1;31mIndexError\u001b[0m                                Traceback (most recent call last)",
      "\u001b[1;32m<ipython-input-3-83d8083b8bd0>\u001b[0m in \u001b[0;36m<module>\u001b[1;34m\u001b[0m\n\u001b[0;32m      6\u001b[0m \u001b[0mprint\u001b[0m\u001b[1;33m(\u001b[0m\u001b[0mcol\u001b[0m\u001b[1;33m[\u001b[0m\u001b[1;33m:\u001b[0m\u001b[1;33m]\u001b[0m\u001b[1;33m)\u001b[0m\u001b[1;33m\u001b[0m\u001b[1;33m\u001b[0m\u001b[0m\n\u001b[0;32m      7\u001b[0m \u001b[0mprint\u001b[0m\u001b[1;33m(\u001b[0m\u001b[1;34m\"4---------------\"\u001b[0m\u001b[1;33m)\u001b[0m\u001b[1;33m\u001b[0m\u001b[1;33m\u001b[0m\u001b[0m\n\u001b[1;32m----> 8\u001b[1;33m \u001b[0mprint\u001b[0m\u001b[1;33m(\u001b[0m\u001b[0mcol\u001b[0m\u001b[1;33m[\u001b[0m\u001b[1;33m:\u001b[0m\u001b[1;33m,\u001b[0m\u001b[1;36m2\u001b[0m\u001b[1;33m]\u001b[0m\u001b[1;33m)\u001b[0m\u001b[1;33m\u001b[0m\u001b[1;33m\u001b[0m\u001b[0m\n\u001b[0m\u001b[0;32m      9\u001b[0m \u001b[0mprint\u001b[0m\u001b[1;33m(\u001b[0m\u001b[1;34m\"5---------------\"\u001b[0m\u001b[1;33m)\u001b[0m\u001b[1;33m\u001b[0m\u001b[1;33m\u001b[0m\u001b[0m\n",
      "\u001b[1;31mIndexError\u001b[0m: too many indices for array: array is 1-dimensional, but 2 were indexed"
     ]
    }
   ],
   "source": [
    "col=df['CATEGORY'].values\n",
    "print(col)\n",
    "print(\"2---------------\")\n",
    "print(type(col))\n",
    "print(\"3---------------\")\n",
    "print(col[:])\n",
    "print(\"4---------------\")\n",
    "print(col[:,2])\n",
    "print(\"5---------------\")"
   ]
  },
  {
   "cell_type": "code",
   "execution_count": null,
   "metadata": {},
   "outputs": [],
   "source": [
    "minidf=df[['CATEGORY','SHOP_ID','ADDRESS']]\n",
    "print(minidf.head(20))\n",
    "print(type(minidf))\n",
    "print(df.head(20))\n",
    "print(\"---------------------------------\")\n",
    "print(df.tail(10))\n",
    "print(\"---------------------------------\")\n",
    "print(minidf.values) #prints a 2d numpy array"
   ]
  },
  {
   "cell_type": "code",
   "execution_count": null,
   "metadata": {
    "scrolled": true
   },
   "outputs": [],
   "source": [
    "minidf['CAFE']=minidf['CATEGORY']=='Cafe' #adding a extra column CAFE where if it return tue if CATEGORY is cafe\n",
    "print(minidf)"
   ]
  },
  {
   "cell_type": "code",
   "execution_count": null,
   "metadata": {},
   "outputs": [],
   "source": [
    "array=df['SHOP_ID'].head(10).values\n",
    "print(df['SHOP_ID'].head(10).values,type(array))#values attribute returns a 1d array "
   ]
  },
  {
   "cell_type": "code",
   "execution_count": 5,
   "metadata": {
    "scrolled": true
   },
   "outputs": [
    {
     "name": "stdout",
     "output_type": "stream",
     "text": [
      "(79, 2)\n",
      "$$\n",
      "['$$' nan '$$' '$$' '$$' nan nan nan nan '$$' nan nan nan nan nan nan nan\n",
      " '$' '$$$' nan '$' '$$' '$$' nan '$$$' nan nan nan '$' nan '$$' nan nan\n",
      " '$$' nan nan nan '$$' nan nan nan '$$' nan nan nan nan nan nan nan nan\n",
      " nan '$$' '$$' '$' nan '$' '$$$' nan nan nan nan nan nan '$$' '$$$$' '$$'\n",
      " '$$' nan '$$$' nan '$' nan '$$' nan '$' nan '$$' nan nan]\n",
      "['$$' nan '$$']\n",
      "[['Coffee shop' '$$']\n",
      " ['Cafe' nan]\n",
      " ['Cafe' '$$']\n",
      " ['Coffee shop' '$$']\n",
      " ['Cafe' '$$']\n",
      " ['Pastry shop' nan]\n",
      " ['Coffee shop' nan]\n",
      " ['Cafe' nan]\n",
      " ['Cafe' nan]\n",
      " ['Coffee shop' '$$']]\n"
     ]
    }
   ],
   "source": [
    "lk=df[['CATEGORY','PRICE']].values  #=[[Row1],[Row2],[Row3]] CATEGORY,PRICE acts as references to their memory locations like indexes\n",
    "print(lk.shape)\n",
    "print(lk[2][1])\n",
    "print(lk[:,1])#selects index 1 element ofeveryinner array\":\" stands for normal array operation array[start:end]\n",
    "print(lk[0:3,1])\n",
    "print(lk[:10]) #simple array operation"
   ]
  },
  {
   "cell_type": "code",
   "execution_count": null,
   "metadata": {},
   "outputs": [],
   "source": [
    "df['HIGH_RATED']=df['RATING']>=4.0\n",
    "addressesAndIds=df[['SHOP_ID','ADDRESS','RATING','HIGH_RATED']].values\n",
    "print(addressesAndIds)\n",
    "addresses=addressesAndIds[:,1]\n",
    "print(addresses)"
   ]
  },
  {
   "cell_type": "code",
   "execution_count": null,
   "metadata": {},
   "outputs": [],
   "source": [
    "mask=addressesAndIds[:,2]>4.0\n",
    "print(mask)\n",
    "print(type(mask))\n",
    "print(addressesAndIds[:,2]>4.0)\n",
    "print(addressesAndIds[mask])\n",
    "print(addressesAndIds[addressesAndIds[:,2]>4.0])\n",
    "print((addressesAndIds[:,2]>4.0).sum()) #summing up all the true values(1)"
   ]
  },
  {
   "cell_type": "code",
   "execution_count": null,
   "metadata": {},
   "outputs": [],
   "source": [
    "graph=plt.scatter(df['REVIEW_COUNT'],df['RATING'])"
   ]
  },
  {
   "cell_type": "code",
   "execution_count": 4,
   "metadata": {},
   "outputs": [
    {
     "ename": "KeyError",
     "evalue": "'HIGH_RATED'",
     "output_type": "error",
     "traceback": [
      "\u001b[1;31m---------------------------------------------------------------------------\u001b[0m",
      "\u001b[1;31mKeyError\u001b[0m                                  Traceback (most recent call last)",
      "\u001b[1;32m~\\anaconda3\\lib\\site-packages\\pandas\\core\\indexes\\base.py\u001b[0m in \u001b[0;36mget_loc\u001b[1;34m(self, key, method, tolerance)\u001b[0m\n\u001b[0;32m   2894\u001b[0m             \u001b[1;32mtry\u001b[0m\u001b[1;33m:\u001b[0m\u001b[1;33m\u001b[0m\u001b[1;33m\u001b[0m\u001b[0m\n\u001b[1;32m-> 2895\u001b[1;33m                 \u001b[1;32mreturn\u001b[0m \u001b[0mself\u001b[0m\u001b[1;33m.\u001b[0m\u001b[0m_engine\u001b[0m\u001b[1;33m.\u001b[0m\u001b[0mget_loc\u001b[0m\u001b[1;33m(\u001b[0m\u001b[0mcasted_key\u001b[0m\u001b[1;33m)\u001b[0m\u001b[1;33m\u001b[0m\u001b[1;33m\u001b[0m\u001b[0m\n\u001b[0m\u001b[0;32m   2896\u001b[0m             \u001b[1;32mexcept\u001b[0m \u001b[0mKeyError\u001b[0m \u001b[1;32mas\u001b[0m \u001b[0merr\u001b[0m\u001b[1;33m:\u001b[0m\u001b[1;33m\u001b[0m\u001b[1;33m\u001b[0m\u001b[0m\n",
      "\u001b[1;32mpandas\\_libs\\index.pyx\u001b[0m in \u001b[0;36mpandas._libs.index.IndexEngine.get_loc\u001b[1;34m()\u001b[0m\n",
      "\u001b[1;32mpandas\\_libs\\index.pyx\u001b[0m in \u001b[0;36mpandas._libs.index.IndexEngine.get_loc\u001b[1;34m()\u001b[0m\n",
      "\u001b[1;32mpandas\\_libs\\hashtable_class_helper.pxi\u001b[0m in \u001b[0;36mpandas._libs.hashtable.PyObjectHashTable.get_item\u001b[1;34m()\u001b[0m\n",
      "\u001b[1;32mpandas\\_libs\\hashtable_class_helper.pxi\u001b[0m in \u001b[0;36mpandas._libs.hashtable.PyObjectHashTable.get_item\u001b[1;34m()\u001b[0m\n",
      "\u001b[1;31mKeyError\u001b[0m: 'HIGH_RATED'",
      "\nThe above exception was the direct cause of the following exception:\n",
      "\u001b[1;31mKeyError\u001b[0m                                  Traceback (most recent call last)",
      "\u001b[1;32m<ipython-input-4-b83f495439a2>\u001b[0m in \u001b[0;36m<module>\u001b[1;34m\u001b[0m\n\u001b[0;32m      1\u001b[0m \u001b[0mplt\u001b[0m\u001b[1;33m.\u001b[0m\u001b[0mxlabel\u001b[0m\u001b[1;33m(\u001b[0m\u001b[1;34m'REVIEW_COUNT'\u001b[0m\u001b[1;33m)\u001b[0m\u001b[1;33m\u001b[0m\u001b[1;33m\u001b[0m\u001b[0m\n\u001b[0;32m      2\u001b[0m \u001b[0mplt\u001b[0m\u001b[1;33m.\u001b[0m\u001b[0mylabel\u001b[0m\u001b[1;33m(\u001b[0m\u001b[1;34m'RATING'\u001b[0m\u001b[1;33m)\u001b[0m\u001b[1;33m\u001b[0m\u001b[1;33m\u001b[0m\u001b[0m\n\u001b[1;32m----> 3\u001b[1;33m \u001b[0mplt\u001b[0m\u001b[1;33m.\u001b[0m\u001b[0mscatter\u001b[0m\u001b[1;33m(\u001b[0m\u001b[0mdf\u001b[0m\u001b[1;33m[\u001b[0m\u001b[1;34m'REVIEW_COUNT'\u001b[0m\u001b[1;33m]\u001b[0m\u001b[1;33m,\u001b[0m\u001b[0mdf\u001b[0m\u001b[1;33m[\u001b[0m\u001b[1;34m'RATING'\u001b[0m\u001b[1;33m]\u001b[0m\u001b[1;33m,\u001b[0m\u001b[0mc\u001b[0m\u001b[1;33m=\u001b[0m\u001b[0mdf\u001b[0m\u001b[1;33m[\u001b[0m\u001b[1;34m'HIGH_RATED'\u001b[0m\u001b[1;33m]\u001b[0m\u001b[1;33m)\u001b[0m\u001b[1;33m\u001b[0m\u001b[1;33m\u001b[0m\u001b[0m\n\u001b[0m\u001b[0;32m      4\u001b[0m \u001b[0mplt\u001b[0m\u001b[1;33m.\u001b[0m\u001b[0mplot\u001b[0m\u001b[1;33m(\u001b[0m\u001b[1;33m[\u001b[0m\u001b[1;36m0\u001b[0m\u001b[1;33m,\u001b[0m\u001b[1;36m4000\u001b[0m\u001b[1;33m]\u001b[0m\u001b[1;33m,\u001b[0m\u001b[1;33m[\u001b[0m\u001b[1;36m4.25\u001b[0m\u001b[1;33m,\u001b[0m\u001b[1;36m4.25\u001b[0m\u001b[1;33m]\u001b[0m\u001b[1;33m,\u001b[0m\u001b[0mcolor\u001b[0m\u001b[1;33m=\u001b[0m\u001b[1;34m'red'\u001b[0m\u001b[1;33m)\u001b[0m \u001b[1;31m#this is a list of x values and y values [[x1,x2],[y1,y2]]\u001b[0m\u001b[1;33m\u001b[0m\u001b[1;33m\u001b[0m\u001b[0m\n\u001b[0;32m      5\u001b[0m \u001b[0mplt\u001b[0m\u001b[1;33m.\u001b[0m\u001b[0mshow\u001b[0m\u001b[1;33m(\u001b[0m\u001b[1;33m)\u001b[0m\u001b[1;33m\u001b[0m\u001b[1;33m\u001b[0m\u001b[0m\n",
      "\u001b[1;32m~\\anaconda3\\lib\\site-packages\\pandas\\core\\frame.py\u001b[0m in \u001b[0;36m__getitem__\u001b[1;34m(self, key)\u001b[0m\n\u001b[0;32m   2900\u001b[0m             \u001b[1;32mif\u001b[0m \u001b[0mself\u001b[0m\u001b[1;33m.\u001b[0m\u001b[0mcolumns\u001b[0m\u001b[1;33m.\u001b[0m\u001b[0mnlevels\u001b[0m \u001b[1;33m>\u001b[0m \u001b[1;36m1\u001b[0m\u001b[1;33m:\u001b[0m\u001b[1;33m\u001b[0m\u001b[1;33m\u001b[0m\u001b[0m\n\u001b[0;32m   2901\u001b[0m                 \u001b[1;32mreturn\u001b[0m \u001b[0mself\u001b[0m\u001b[1;33m.\u001b[0m\u001b[0m_getitem_multilevel\u001b[0m\u001b[1;33m(\u001b[0m\u001b[0mkey\u001b[0m\u001b[1;33m)\u001b[0m\u001b[1;33m\u001b[0m\u001b[1;33m\u001b[0m\u001b[0m\n\u001b[1;32m-> 2902\u001b[1;33m             \u001b[0mindexer\u001b[0m \u001b[1;33m=\u001b[0m \u001b[0mself\u001b[0m\u001b[1;33m.\u001b[0m\u001b[0mcolumns\u001b[0m\u001b[1;33m.\u001b[0m\u001b[0mget_loc\u001b[0m\u001b[1;33m(\u001b[0m\u001b[0mkey\u001b[0m\u001b[1;33m)\u001b[0m\u001b[1;33m\u001b[0m\u001b[1;33m\u001b[0m\u001b[0m\n\u001b[0m\u001b[0;32m   2903\u001b[0m             \u001b[1;32mif\u001b[0m \u001b[0mis_integer\u001b[0m\u001b[1;33m(\u001b[0m\u001b[0mindexer\u001b[0m\u001b[1;33m)\u001b[0m\u001b[1;33m:\u001b[0m\u001b[1;33m\u001b[0m\u001b[1;33m\u001b[0m\u001b[0m\n\u001b[0;32m   2904\u001b[0m                 \u001b[0mindexer\u001b[0m \u001b[1;33m=\u001b[0m \u001b[1;33m[\u001b[0m\u001b[0mindexer\u001b[0m\u001b[1;33m]\u001b[0m\u001b[1;33m\u001b[0m\u001b[1;33m\u001b[0m\u001b[0m\n",
      "\u001b[1;32m~\\anaconda3\\lib\\site-packages\\pandas\\core\\indexes\\base.py\u001b[0m in \u001b[0;36mget_loc\u001b[1;34m(self, key, method, tolerance)\u001b[0m\n\u001b[0;32m   2895\u001b[0m                 \u001b[1;32mreturn\u001b[0m \u001b[0mself\u001b[0m\u001b[1;33m.\u001b[0m\u001b[0m_engine\u001b[0m\u001b[1;33m.\u001b[0m\u001b[0mget_loc\u001b[0m\u001b[1;33m(\u001b[0m\u001b[0mcasted_key\u001b[0m\u001b[1;33m)\u001b[0m\u001b[1;33m\u001b[0m\u001b[1;33m\u001b[0m\u001b[0m\n\u001b[0;32m   2896\u001b[0m             \u001b[1;32mexcept\u001b[0m \u001b[0mKeyError\u001b[0m \u001b[1;32mas\u001b[0m \u001b[0merr\u001b[0m\u001b[1;33m:\u001b[0m\u001b[1;33m\u001b[0m\u001b[1;33m\u001b[0m\u001b[0m\n\u001b[1;32m-> 2897\u001b[1;33m                 \u001b[1;32mraise\u001b[0m \u001b[0mKeyError\u001b[0m\u001b[1;33m(\u001b[0m\u001b[0mkey\u001b[0m\u001b[1;33m)\u001b[0m \u001b[1;32mfrom\u001b[0m \u001b[0merr\u001b[0m\u001b[1;33m\u001b[0m\u001b[1;33m\u001b[0m\u001b[0m\n\u001b[0m\u001b[0;32m   2898\u001b[0m \u001b[1;33m\u001b[0m\u001b[0m\n\u001b[0;32m   2899\u001b[0m         \u001b[1;32mif\u001b[0m \u001b[0mtolerance\u001b[0m \u001b[1;32mis\u001b[0m \u001b[1;32mnot\u001b[0m \u001b[1;32mNone\u001b[0m\u001b[1;33m:\u001b[0m\u001b[1;33m\u001b[0m\u001b[1;33m\u001b[0m\u001b[0m\n",
      "\u001b[1;31mKeyError\u001b[0m: 'HIGH_RATED'"
     ]
    },
    {
     "data": {
      "image/png": "[encoded data removed]",
      "text/plain": [
       "<Figure size 432x288 with 1 Axes>"
      ]
     },
     "metadata": {
      "needs_background": "light"
     },
     "output_type": "display_data"
    }
   ],
   "source": [
    "plt.xlabel('REVIEW_COUNT')\n",
    "plt.ylabel('RATING')\n",
    "plt.scatter(df['REVIEW_COUNT'],df['RATING'],c=df['HIGH_RATED'])\n",
    "plt.plot([0,4000],[4.25,4.25],color='red') #this is a list of x values and y values [[x1,x2],[y1,y2]]\n",
    "plt.show()"
   ]
  },
  {
   "cell_type": "code",
   "execution_count": null,
   "metadata": {},
   "outputs": [],
   "source": []
  }
 ],
 "metadata": {
  "kernelspec": {
   "display_name": "Python 3",
   "language": "python",
   "name": "python3"
  },
  "language_info": {
   "codemirror_mode": {
    "name": "ipython",
    "version": 3
   },
   "file_extension": ".py",
   "mimetype": "text/x-python",
   "name": "python",
   "nbconvert_exporter": "python",
   "pygments_lexer": "ipython3",
   "version": "3.8.5"
  }
 },
 "nbformat": 4,
 "nbformat_minor": 4
}
